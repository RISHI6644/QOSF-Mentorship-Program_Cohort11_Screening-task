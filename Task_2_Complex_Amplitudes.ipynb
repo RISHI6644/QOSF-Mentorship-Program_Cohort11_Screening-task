{
  "nbformat": 4,
  "nbformat_minor": 0,
  "metadata": {
    "colab": {
      "provenance": []
    },
    "kernelspec": {
      "name": "python3",
      "display_name": "Python 3"
    },
    "language_info": {
      "name": "python"
    }
  },
  "cells": [
    {
      "cell_type": "code",
      "execution_count": 5,
      "metadata": {
        "colab": {
          "base_uri": "https://localhost:8080/"
        },
        "id": "mA1cV7yP9XAV",
        "outputId": "ee858b8b-1a0c-4501-9ff7-724e5ae522e2"
      },
      "outputs": [
        {
          "output_type": "stream",
          "name": "stdout",
          "text": [
            "Requirement already satisfied: pytest in /usr/local/lib/python3.12/dist-packages (8.4.2)\n",
            "Requirement already satisfied: iniconfig>=1 in /usr/local/lib/python3.12/dist-packages (from pytest) (2.3.0)\n",
            "Requirement already satisfied: packaging>=20 in /usr/local/lib/python3.12/dist-packages (from pytest) (25.0)\n",
            "Requirement already satisfied: pluggy<2,>=1.5 in /usr/local/lib/python3.12/dist-packages (from pytest) (1.6.0)\n",
            "Requirement already satisfied: pygments>=2.7.2 in /usr/local/lib/python3.12/dist-packages (from pytest) (2.19.2)\n"
          ]
        }
      ],
      "source": [
        "!pip install pytest"
      ]
    },
    {
      "cell_type": "markdown",
      "source": [
        "**Import Libraries**"
      ],
      "metadata": {
        "id": "qgji3SvsFiK0"
      }
    },
    {
      "cell_type": "code",
      "source": [
        "import numpy as np\n",
        "import pytest\n",
        "from numpy.testing import assert_almost_equal, assert_allclose"
      ],
      "metadata": {
        "id": "L6LAEAIb93mW"
      },
      "execution_count": 6,
      "outputs": []
    },
    {
      "cell_type": "markdown",
      "source": [
        "**State Preparation Function**"
      ],
      "metadata": {
        "id": "y7XsMzpsGJMk"
      }
    },
    {
      "cell_type": "code",
      "source": [
        "def _normalize_amplitudes(amplitudes_array):\n",
        "    \"\"\"\n",
        "    Internal helper function to normalize a quantum state vector.\n",
        "\n",
        "    Args:\n",
        "        amplitudes_array (np.ndarray): A NumPy array of complex amplitudes.\n",
        "\n",
        "    Returns:\n",
        "        np.ndarray: A normalized NumPy array.\n",
        "\n",
        "    Raises:\n",
        "        ValueError: If the input amplitudes form a zero vector.\n",
        "    \"\"\"\n",
        "    # Calculate the L2 norm (magnitude) of the vector\n",
        "    norm = np.linalg.norm(amplitudes_array)\n",
        "\n",
        "    # Use np.isclose for a robust check against zero\n",
        "    if np.isclose(norm, 0.0):\n",
        "        raise ValueError(\"Input amplitudes form a zero vector, which cannot be normalized.\")\n",
        "\n",
        "    # Divide each amplitude by the norm\n",
        "    return amplitudes_array / norm\n",
        "\n",
        "def prepare_two_qubit_state(amplitudes):\n",
        "    \"\"\"\n",
        "    Prepares a normalized two-qubit quantum state vector.\n",
        "\n",
        "    Parameters:\n",
        "    -----------\n",
        "    amplitudes : array-like\n",
        "        A list or array of 4 complex numbers [a0, a1, a2, a3] for the state:\n",
        "        |ψ⟩ = a0|00⟩ + a1|01⟩ + a2|10⟩ + a3|11⟩\n",
        "\n",
        "    Returns:\n",
        "    --------\n",
        "    np.ndarray\n",
        "        A normalized state vector of shape (4,).\n",
        "\n",
        "    Raises:\n",
        "    -------\n",
        "    ValueError\n",
        "        If the input does not have exactly 4 amplitudes.\n",
        "\n",
        "    Example:\n",
        "    --------\n",
        "    >>> # Prepare a Bell state from an unnormalized input\n",
        "    >>> state = prepare_two_qubit_state([1, 0, 0, 1])\n",
        "    >>> print(state)\n",
        "    [0.70710678+0.j 0.          +0.j 0.          +0.j 0.70710678+0.j]\n",
        "    \"\"\"\n",
        "    # Convert to a NumPy array and validate shape\n",
        "    # We use np.asarray to avoid copying if it's already an array\n",
        "    amplitudes_array = np.asarray(amplitudes, dtype=np.complex128)\n",
        "\n",
        "    # Use the more idiomatic .shape check\n",
        "    if amplitudes_array.shape != (4,):\n",
        "        raise ValueError(f\"Expected 4 amplitudes for a two-qubit state, but got {amplitudes_array.size}.\")\n",
        "\n",
        "    # Delegate the actual math to our clean helper function\n",
        "    return _normalize_amplitudes(amplitudes_array)\n",
        "\n",
        "def compute_measurement_probabilities(state_vector):\n",
        "    \"\"\"\n",
        "    (Helper Function) Computes the measurement probabilities for each basis state.\n",
        "\n",
        "    The probability of measuring a basis state |i⟩ is |a_i|².\n",
        "\n",
        "    Parameters:\n",
        "    -----------\n",
        "    state_vector : np.ndarray\n",
        "        A normalized quantum state vector.\n",
        "\n",
        "    Returns:\n",
        "    --------\n",
        "    np.ndarray\n",
        "        An array of real-valued probabilities, where each element is |a_i|².\n",
        "    \"\"\"\n",
        "    # np.abs(x) calculates the magnitude (modulus) of a complex number\n",
        "    # **2 squares it. This is the correct way to get |a_i|².\n",
        "    return np.abs(state_vector)**2\n",
        "\n",
        "\n",
        "# --- STRETCH GOAL ---\n",
        "\n",
        "def prepare_n_qubit_state(amplitudes, num_qubits):\n",
        "    \"\"\"\n",
        "    (Stretch Goal) Prepares a normalized n-qubit quantum state vector.\n",
        "\n",
        "    Parameters:\n",
        "    -----------\n",
        "    amplitudes : array-like\n",
        "        A list or array of 2^n complex amplitudes.\n",
        "    num_qubits : int\n",
        "        The number of qubits (e.g., 3 for a 3-qubit state).\n",
        "\n",
        "    Returns:\n",
        "    --------\n",
        "    np.ndarray\n",
        "        A normalized state vector of shape (2^n,).\n",
        "\n",
        "    Raises:\n",
        "    -------\n",
        "    ValueError\n",
        "        If the number of amplitudes does not match 2^num_qubits.\n",
        "    \"\"\"\n",
        "    expected_size = 2**num_qubits\n",
        "\n",
        "    # Convert and validate\n",
        "    amplitudes_array = np.asarray(amplitudes, dtype=np.complex128)\n",
        "\n",
        "    if amplitudes_array.size != expected_size:\n",
        "        raise ValueError(f\"Expected {expected_size} amplitudes for a {num_qubits}-qubit state, \"\n",
        "                         f\"but got {amplitudes_array.size}.\")\n",
        "\n",
        "    # Reshape to a 1D vector (in case a multi-dim array was passed)\n",
        "    # and then normalize.\n",
        "    return _normalize_amplitudes(amplitudes_array.reshape(-1))"
      ],
      "metadata": {
        "id": "uxPi7UZSLYNL"
      },
      "execution_count": 7,
      "outputs": []
    },
    {
      "cell_type": "markdown",
      "source": [
        "**Unit Test Functions**"
      ],
      "metadata": {
        "id": "_3kzex9KGi68"
      }
    },
    {
      "cell_type": "code",
      "source": [
        "# ============================================\n",
        "#             UNIT TESTS\n",
        "# ============================================\n",
        "\n",
        "def test_normalization_is_enforced():\n",
        "    \"\"\"Tests that an unnormalized vector [1, 1, 1, 1] is correctly normalized.\"\"\"\n",
        "    unnormalized_amps = [1, 1, 1, 1]\n",
        "    state = prepare_two_qubit_state(unnormalized_amps)\n",
        "    norm = np.linalg.norm(state)\n",
        "    assert_almost_equal(norm, 1.0)\n",
        "    expected_state = [0.5, 0.5, 0.5, 0.5]\n",
        "    assert_allclose(state, expected_state)\n",
        "    print(\"✓ Test 1 passed: Normalization enforced\")\n",
        "\n",
        "def test_already_normalized_vector():\n",
        "    \"\"\"Tests that an already normalized Bell state is unchanged.\"\"\"\n",
        "    val = 1 / np.sqrt(2)\n",
        "    normalized_amps = [val, 0, 0, val]\n",
        "    state = prepare_two_qubit_state(normalized_amps)\n",
        "    assert_almost_equal(np.linalg.norm(state), 1.0)\n",
        "    assert_allclose(state, normalized_amps)\n",
        "    print(\"✓ Test 2 passed: Already normalized vector handled\")\n",
        "\n",
        "def test_output_dimension_is_correct():\n",
        "    \"\"\"Tests that the output vector has the correct dimension (4).\"\"\"\n",
        "    state = prepare_two_qubit_state([1, 0, 0, 0])\n",
        "    assert state.shape == (4,)\n",
        "    print(\"✓ Test 3 passed: Correct output dimension (4,)\")\n",
        "\n",
        "def test_invalid_dimension_raises_error():\n",
        "    \"\"\"Tests that ValueError is raised for incorrect number of amplitudes.\"\"\"\n",
        "    with pytest.raises(ValueError, match=\"Expected 4 amplitudes\"):\n",
        "        prepare_two_qubit_state([1, 0, 0]) # Only 3 amplitudes\n",
        "    print(\"✓ Test 4 passed: Error raised for invalid dimension\")\n",
        "\n",
        "def test_zero_vector_raises_error():\n",
        "    \"\"\"Tests that ValueError is raised for a zero vector (which can't be normalized).\"\"\"\n",
        "    with pytest.raises(ValueError, match=\"zero vector\"):\n",
        "        prepare_two_qubit_state([0, 0, 0, 0])\n",
        "    print(\"✓ Test 5 passed: Zero vector error handling\")\n",
        "\n",
        "def test_measurement_probabilities():\n",
        "    \"\"\"Tests our new helper function for computing probabilities.\"\"\"\n",
        "    state = prepare_two_qubit_state([1, 1j, 0, 0]) # Norm is sqrt(1^2 + |1j|^2) = sqrt(2)\n",
        "    # Expected state is [1/sqrt(2), 1j/sqrt(2), 0, 0]\n",
        "    # Expected probs are [0.5, 0.5, 0, 0]\n",
        "    probs = compute_measurement_probabilities(state)\n",
        "    assert_allclose(probs, [0.5, 0.5, 0, 0])\n",
        "    assert_almost_equal(np.sum(probs), 1.0)\n",
        "    print(\"✓ Test 6 passed: Measurement probabilities correct\")\n",
        "\n",
        "def test_stretch_goal_3_qubits():\n",
        "    \"\"\"Tests the n-qubit generalization for a 3-qubit (8 amplitude) case.\"\"\"\n",
        "    amps = [1, 0, 0, 0, 1j, 0, 0, 0] # Norm is sqrt(1+1) = sqrt(2)\n",
        "    state = prepare_n_qubit_state(amps, num_qubits=3)\n",
        "    assert_almost_equal(np.linalg.norm(state), 1.0)\n",
        "    assert state.shape == (8,)\n",
        "    val = 1 / np.sqrt(2)\n",
        "    expected_state = [val, 0, 0, 0, 1j * val, 0, 0, 0]\n",
        "    assert_allclose(state, expected_state)\n",
        "    print(\"✓ Test 7 passed: 3-Qubit stretch goal (general)\")"
      ],
      "metadata": {
        "id": "t9doXEyELm2s"
      },
      "execution_count": 8,
      "outputs": []
    },
    {
      "cell_type": "markdown",
      "source": [
        "**Test Runner**"
      ],
      "metadata": {
        "id": "fISHEd2MHA6b"
      }
    },
    {
      "cell_type": "code",
      "source": [
        "def run_all_tests():\n",
        "    \"\"\"Run all unit tests\"\"\"\n",
        "    print(\"=\"*50)\n",
        "    print(\"Running All Unit Tests\")\n",
        "    print(\"=\"*50)\n",
        "\n",
        "    try:\n",
        "        test_normalization_is_enforced()\n",
        "        test_already_normalized_vector()\n",
        "        test_output_dimension_is_correct()\n",
        "        test_invalid_dimension_raises_error()\n",
        "        test_zero_vector_raises_error()\n",
        "        test_measurement_probabilities()\n",
        "        test_stretch_goal_3_qubits()\n",
        "\n",
        "        print(\"=\"*50)\n",
        "        print(\"✅ ALL TESTS PASSED!\")\n",
        "        print(\"=\"*50)\n",
        "\n",
        "    except AssertionError as e:\n",
        "        print(\"\\n\" + \"=\"*50)\n",
        "        print(f\"❌ TEST FAILED: {e}\")\n",
        "        print(\"=\"*50)\n",
        "\n",
        "# --- Run the tests ---\n",
        "run_all_tests()"
      ],
      "metadata": {
        "colab": {
          "base_uri": "https://localhost:8080/"
        },
        "id": "zD4JfHfIG1Wt",
        "outputId": "cb5e3a6b-3e64-41ae-d688-27adbc164d38"
      },
      "execution_count": 9,
      "outputs": [
        {
          "output_type": "stream",
          "name": "stdout",
          "text": [
            "==================================================\n",
            "Running All Unit Tests\n",
            "==================================================\n",
            "✓ Test 1 passed: Normalization enforced\n",
            "✓ Test 2 passed: Already normalized vector handled\n",
            "✓ Test 3 passed: Correct output dimension (4,)\n",
            "✓ Test 4 passed: Error raised for invalid dimension\n",
            "✓ Test 5 passed: Zero vector error handling\n",
            "✓ Test 6 passed: Measurement probabilities correct\n",
            "✓ Test 7 passed: 3-Qubit stretch goal (general)\n",
            "==================================================\n",
            "✅ ALL TESTS PASSED!\n",
            "==================================================\n"
          ]
        }
      ]
    },
    {
      "cell_type": "markdown",
      "source": [
        "**Demonstration**"
      ],
      "metadata": {
        "id": "gOdUmSVClRYW"
      }
    },
    {
      "cell_type": "code",
      "source": [
        "def demonstrate_usage():\n",
        "    \"\"\"Demonstrate the state preparation routine\"\"\"\n",
        "    print(\"\\n\" + \"=\"*50)\n",
        "    print(\"DEMONSTRATION: State Preparation\")\n",
        "    print(\"=\"*50)\n",
        "\n",
        "    # Example 1: Bell state\n",
        "    print(\"\\nExample 1: Bell state (|00⟩ + |11⟩)/√2\")\n",
        "    state1 = prepare_two_qubit_state([1, 0, 0, 1])\n",
        "    print(f\"  Input (unnormalized): [1, 0, 0, 1]\")\n",
        "    print(f\"  State vector: {state1}\")\n",
        "    print(f\"  Probabilities: {compute_measurement_probabilities(state1)}\")\n",
        "\n",
        "    # Example 2: Complex superposition\n",
        "    print(\"\\nExample 2: Complex superposition\")\n",
        "    state2 = prepare_two_qubit_state([1, 1j, -1, 1+1j])\n",
        "    print(f\"  Input (unnormalized): [1, 1j, -1, 1+1j]\")\n",
        "    print(f\"  State vector: {state2}\")\n",
        "    print(f\"  Probabilities: {compute_measurement_probabilities(state2)}\")\n",
        "\n",
        "    # Example 3: Three-qubit GHZ state (Stretch Goal)\n",
        "    print(\"\\nExample 3: Three-qubit GHZ state (|000⟩ + |111⟩)/√2\")\n",
        "    state3 = prepare_n_qubit_state([1, 0, 0, 0, 0, 0, 0, 1], num_qubits=3)\n",
        "    print(f\"  Input (unnormalized): [1, 0, 0, 0, 0, 0, 0, 1]\")\n",
        "    print(f\"  State vector: {state3}\")\n",
        "    print(f\"  Probabilities: {compute_measurement_probabilities(state3)}\")\n",
        "\n",
        "# --- Run the demonstration ---\n",
        "demonstrate_usage()"
      ],
      "metadata": {
        "id": "iEcz2ViHHKgh",
        "colab": {
          "base_uri": "https://localhost:8080/"
        },
        "outputId": "8fc23fbc-f27a-4e09-9017-a3be1039eb9a"
      },
      "execution_count": 10,
      "outputs": [
        {
          "output_type": "stream",
          "name": "stdout",
          "text": [
            "\n",
            "==================================================\n",
            "DEMONSTRATION: State Preparation\n",
            "==================================================\n",
            "\n",
            "Example 1: Bell state (|00⟩ + |11⟩)/√2\n",
            "  Input (unnormalized): [1, 0, 0, 1]\n",
            "  State vector: [0.70710678+0.j 0.        +0.j 0.        +0.j 0.70710678+0.j]\n",
            "  Probabilities: [0.5 0.  0.  0.5]\n",
            "\n",
            "Example 2: Complex superposition\n",
            "  Input (unnormalized): [1, 1j, -1, 1+1j]\n",
            "  State vector: [ 0.4472136+0.j         0.       +0.4472136j -0.4472136+0.j\n",
            "  0.4472136+0.4472136j]\n",
            "  Probabilities: [0.2 0.2 0.2 0.4]\n",
            "\n",
            "Example 3: Three-qubit GHZ state (|000⟩ + |111⟩)/√2\n",
            "  Input (unnormalized): [1, 0, 0, 0, 0, 0, 0, 1]\n",
            "  State vector: [0.70710678+0.j 0.        +0.j 0.        +0.j 0.        +0.j\n",
            " 0.        +0.j 0.        +0.j 0.        +0.j 0.70710678+0.j]\n",
            "  Probabilities: [0.5 0.  0.  0.  0.  0.  0.  0.5]\n"
          ]
        }
      ]
    },
    {
      "cell_type": "code",
      "source": [],
      "metadata": {
        "id": "Pl9C3BUzlV_N"
      },
      "execution_count": null,
      "outputs": []
    }
  ]
}